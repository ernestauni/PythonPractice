{
 "cells": [
  {
   "cell_type": "code",
   "execution_count": 7,
   "id": "640fc5d1",
   "metadata": {},
   "outputs": [],
   "source": [
    "# Map and Filter:\n",
    "\n",
    "# 1)Use map to double each element in a list of numbers.\n",
    "# Use filter to select only the odd numbers from a list of integers."
   ]
  },
  {
   "cell_type": "code",
   "execution_count": 4,
   "id": "c31a543c",
   "metadata": {},
   "outputs": [
    {
     "name": "stdout",
     "output_type": "stream",
     "text": [
      "[2, 6, 10, 14, 18]\n"
     ]
    }
   ],
   "source": [
    "numbers=[1,2,3,4,5,6,7,8,9,10]\n",
    "odd_numbers=list(filter(lambda x:x%2!=0,numbers))\n",
    "doubled_numbers=list(map(lambda x: x*2, odd_numbers))\n",
    "print(doubled_numbers)"
   ]
  },
  {
   "cell_type": "code",
   "execution_count": 6,
   "id": "4acd8c34",
   "metadata": {},
   "outputs": [],
   "source": [
    "# Pandas:\n",
    "\n",
    "# 2)Read a CSV file into a pandas DataFrame and display the first few rows.\n",
    "# Group a DataFrame by a specific column and calculate the average of another column.\n",
    "# Merge two DataFrames based on a common column."
   ]
  },
  {
   "cell_type": "code",
   "execution_count": 8,
   "id": "1b517706",
   "metadata": {},
   "outputs": [],
   "source": [
    "import pandas as pd"
   ]
  },
  {
   "cell_type": "code",
   "execution_count": 13,
   "id": "eba10a35",
   "metadata": {},
   "outputs": [
    {
     "data": {
      "text/html": [
       "<div>\n",
       "<style scoped>\n",
       "    .dataframe tbody tr th:only-of-type {\n",
       "        vertical-align: middle;\n",
       "    }\n",
       "\n",
       "    .dataframe tbody tr th {\n",
       "        vertical-align: top;\n",
       "    }\n",
       "\n",
       "    .dataframe thead th {\n",
       "        text-align: right;\n",
       "    }\n",
       "</style>\n",
       "<table border=\"1\" class=\"dataframe\">\n",
       "  <thead>\n",
       "    <tr style=\"text-align: right;\">\n",
       "      <th></th>\n",
       "      <th>year</th>\n",
       "      <th>rank</th>\n",
       "      <th>Country</th>\n",
       "      <th>state</th>\n",
       "      <th>gdp</th>\n",
       "      <th>gdp_percent</th>\n",
       "    </tr>\n",
       "  </thead>\n",
       "  <tbody>\n",
       "    <tr>\n",
       "      <th>0</th>\n",
       "      <td>2020</td>\n",
       "      <td>1</td>\n",
       "      <td>the United States</td>\n",
       "      <td>America</td>\n",
       "      <td>2.090000e+13</td>\n",
       "      <td>0.270006</td>\n",
       "    </tr>\n",
       "    <tr>\n",
       "      <th>1</th>\n",
       "      <td>2020</td>\n",
       "      <td>2</td>\n",
       "      <td>China</td>\n",
       "      <td>Asia</td>\n",
       "      <td>1.470000e+13</td>\n",
       "      <td>0.189870</td>\n",
       "    </tr>\n",
       "    <tr>\n",
       "      <th>2</th>\n",
       "      <td>2020</td>\n",
       "      <td>3</td>\n",
       "      <td>Germany</td>\n",
       "      <td>Europe</td>\n",
       "      <td>3.810000e+12</td>\n",
       "      <td>0.049084</td>\n",
       "    </tr>\n",
       "    <tr>\n",
       "      <th>3</th>\n",
       "      <td>2020</td>\n",
       "      <td>4</td>\n",
       "      <td>United Kingdom</td>\n",
       "      <td>Europe</td>\n",
       "      <td>2.710000e+12</td>\n",
       "      <td>0.034920</td>\n",
       "    </tr>\n",
       "    <tr>\n",
       "      <th>4</th>\n",
       "      <td>2020</td>\n",
       "      <td>5</td>\n",
       "      <td>India</td>\n",
       "      <td>Asia</td>\n",
       "      <td>2.620000e+12</td>\n",
       "      <td>0.033827</td>\n",
       "    </tr>\n",
       "  </tbody>\n",
       "</table>\n",
       "</div>"
      ],
      "text/plain": [
       "   year  rank            Country    state           gdp  gdp_percent\n",
       "0  2020     1  the United States  America  2.090000e+13     0.270006\n",
       "1  2020     2              China     Asia  1.470000e+13     0.189870\n",
       "2  2020     3            Germany   Europe  3.810000e+12     0.049084\n",
       "3  2020     4     United Kingdom   Europe  2.710000e+12     0.034920\n",
       "4  2020     5              India     Asia  2.620000e+12     0.033827"
      ]
     },
     "execution_count": 13,
     "metadata": {},
     "output_type": "execute_result"
    }
   ],
   "source": [
    "df=pd.read_csv('SGT_task1_gdp_2020.csv')\n",
    "df.head(5)"
   ]
  },
  {
   "cell_type": "code",
   "execution_count": 14,
   "id": "b1b37577",
   "metadata": {},
   "outputs": [
    {
     "name": "stdout",
     "output_type": "stream",
     "text": [
      "Country\n",
      "Afghanistan            1.980707e+10\n",
      "Albania                1.479962e+10\n",
      "Algeria                1.450000e+11\n",
      "Angola                 6.230691e+10\n",
      "Antigua and Barbuda    1.415059e+09\n",
      "                           ...     \n",
      "Vanuatu                8.547936e+08\n",
      "Vietnam                2.710000e+11\n",
      "Zambia                 1.932005e+10\n",
      "Zimbabwe               1.676851e+10\n",
      "the United States      2.090000e+13\n",
      "Name: gdp, Length: 174, dtype: float64\n"
     ]
    }
   ],
   "source": [
    "grouped_df=df.groupby('Country')['gdp'].mean()\n",
    "print(grouped_df)"
   ]
  },
  {
   "cell_type": "code",
   "execution_count": 20,
   "id": "0ecb8c65",
   "metadata": {},
   "outputs": [
    {
     "data": {
      "text/html": [
       "<div>\n",
       "<style scoped>\n",
       "    .dataframe tbody tr th:only-of-type {\n",
       "        vertical-align: middle;\n",
       "    }\n",
       "\n",
       "    .dataframe tbody tr th {\n",
       "        vertical-align: top;\n",
       "    }\n",
       "\n",
       "    .dataframe thead th {\n",
       "        text-align: right;\n",
       "    }\n",
       "</style>\n",
       "<table border=\"1\" class=\"dataframe\">\n",
       "  <thead>\n",
       "    <tr style=\"text-align: right;\">\n",
       "      <th></th>\n",
       "      <th>Rank</th>\n",
       "      <th>Name</th>\n",
       "      <th>Net Worth</th>\n",
       "      <th>Age</th>\n",
       "      <th>Country</th>\n",
       "      <th>Source</th>\n",
       "      <th>Industry</th>\n",
       "    </tr>\n",
       "  </thead>\n",
       "  <tbody>\n",
       "    <tr>\n",
       "      <th>0</th>\n",
       "      <td>1</td>\n",
       "      <td>Elon Musk</td>\n",
       "      <td>$219 B</td>\n",
       "      <td>50.0</td>\n",
       "      <td>United States</td>\n",
       "      <td>Tesla, SpaceX</td>\n",
       "      <td>Automotive</td>\n",
       "    </tr>\n",
       "    <tr>\n",
       "      <th>1</th>\n",
       "      <td>2</td>\n",
       "      <td>Jeff Bezos</td>\n",
       "      <td>$171 B</td>\n",
       "      <td>58.0</td>\n",
       "      <td>United States</td>\n",
       "      <td>Amazon</td>\n",
       "      <td>Technology</td>\n",
       "    </tr>\n",
       "    <tr>\n",
       "      <th>2</th>\n",
       "      <td>3</td>\n",
       "      <td>Bernard Arnault &amp; family</td>\n",
       "      <td>$158 B</td>\n",
       "      <td>73.0</td>\n",
       "      <td>France</td>\n",
       "      <td>LVMH</td>\n",
       "      <td>Fashion &amp; Retail</td>\n",
       "    </tr>\n",
       "    <tr>\n",
       "      <th>3</th>\n",
       "      <td>4</td>\n",
       "      <td>Bill Gates</td>\n",
       "      <td>$129 B</td>\n",
       "      <td>66.0</td>\n",
       "      <td>United States</td>\n",
       "      <td>Microsoft</td>\n",
       "      <td>Technology</td>\n",
       "    </tr>\n",
       "    <tr>\n",
       "      <th>4</th>\n",
       "      <td>5</td>\n",
       "      <td>Warren Buffett</td>\n",
       "      <td>$118 B</td>\n",
       "      <td>91.0</td>\n",
       "      <td>United States</td>\n",
       "      <td>Berkshire Hathaway</td>\n",
       "      <td>Finance &amp; Investments</td>\n",
       "    </tr>\n",
       "  </tbody>\n",
       "</table>\n",
       "</div>"
      ],
      "text/plain": [
       "   Rank                      Name Net Worth   Age        Country  \\\n",
       "0     1                 Elon Musk    $219 B  50.0  United States   \n",
       "1     2                Jeff Bezos    $171 B  58.0  United States   \n",
       "2     3  Bernard Arnault & family    $158 B  73.0         France   \n",
       "3     4                Bill Gates    $129 B  66.0  United States   \n",
       "4     5            Warren Buffett    $118 B  91.0  United States   \n",
       "\n",
       "               Source               Industry  \n",
       "0       Tesla, SpaceX             Automotive  \n",
       "1              Amazon             Technology  \n",
       "2                LVMH       Fashion & Retail  \n",
       "3           Microsoft             Technology  \n",
       "4  Berkshire Hathaway  Finance & Investments  "
      ]
     },
     "execution_count": 20,
     "metadata": {},
     "output_type": "execute_result"
    }
   ],
   "source": [
    "df2=pd.read_csv('SGT_task1_forbes_richman.csv', encoding=\"ISO-8859-1\")\n",
    "df2.head(5)"
   ]
  },
  {
   "cell_type": "code",
   "execution_count": 22,
   "id": "61582377",
   "metadata": {},
   "outputs": [
    {
     "data": {
      "text/html": [
       "<div>\n",
       "<style scoped>\n",
       "    .dataframe tbody tr th:only-of-type {\n",
       "        vertical-align: middle;\n",
       "    }\n",
       "\n",
       "    .dataframe tbody tr th {\n",
       "        vertical-align: top;\n",
       "    }\n",
       "\n",
       "    .dataframe thead th {\n",
       "        text-align: right;\n",
       "    }\n",
       "</style>\n",
       "<table border=\"1\" class=\"dataframe\">\n",
       "  <thead>\n",
       "    <tr style=\"text-align: right;\">\n",
       "      <th></th>\n",
       "      <th>year</th>\n",
       "      <th>rank</th>\n",
       "      <th>Country</th>\n",
       "      <th>state</th>\n",
       "      <th>gdp</th>\n",
       "      <th>gdp_percent</th>\n",
       "      <th>Rank</th>\n",
       "      <th>Name</th>\n",
       "      <th>Net Worth</th>\n",
       "      <th>Age</th>\n",
       "      <th>Source</th>\n",
       "      <th>Industry</th>\n",
       "    </tr>\n",
       "  </thead>\n",
       "  <tbody>\n",
       "    <tr>\n",
       "      <th>0</th>\n",
       "      <td>2020</td>\n",
       "      <td>2</td>\n",
       "      <td>China</td>\n",
       "      <td>Asia</td>\n",
       "      <td>1.470000e+13</td>\n",
       "      <td>0.18987</td>\n",
       "      <td>16</td>\n",
       "      <td>Zhong Shanshan</td>\n",
       "      <td>$65.7 B</td>\n",
       "      <td>67.0</td>\n",
       "      <td>beverages, pharmaceuticals</td>\n",
       "      <td>Food &amp; Beverage</td>\n",
       "    </tr>\n",
       "    <tr>\n",
       "      <th>1</th>\n",
       "      <td>2020</td>\n",
       "      <td>2</td>\n",
       "      <td>China</td>\n",
       "      <td>Asia</td>\n",
       "      <td>1.470000e+13</td>\n",
       "      <td>0.18987</td>\n",
       "      <td>24</td>\n",
       "      <td>Zhang Yiming</td>\n",
       "      <td>$50 B</td>\n",
       "      <td>38.0</td>\n",
       "      <td>TikTok</td>\n",
       "      <td>Media &amp; Entertainment</td>\n",
       "    </tr>\n",
       "    <tr>\n",
       "      <th>2</th>\n",
       "      <td>2020</td>\n",
       "      <td>2</td>\n",
       "      <td>China</td>\n",
       "      <td>Asia</td>\n",
       "      <td>1.470000e+13</td>\n",
       "      <td>0.18987</td>\n",
       "      <td>32</td>\n",
       "      <td>Ma Huateng</td>\n",
       "      <td>$37.2 B</td>\n",
       "      <td>50.0</td>\n",
       "      <td>internet media</td>\n",
       "      <td>Technology</td>\n",
       "    </tr>\n",
       "    <tr>\n",
       "      <th>3</th>\n",
       "      <td>2020</td>\n",
       "      <td>2</td>\n",
       "      <td>China</td>\n",
       "      <td>Asia</td>\n",
       "      <td>1.470000e+13</td>\n",
       "      <td>0.18987</td>\n",
       "      <td>46</td>\n",
       "      <td>He Xiangjian</td>\n",
       "      <td>$28.3 B</td>\n",
       "      <td>79.0</td>\n",
       "      <td>home appliances</td>\n",
       "      <td>Manufacturing</td>\n",
       "    </tr>\n",
       "    <tr>\n",
       "      <th>4</th>\n",
       "      <td>2020</td>\n",
       "      <td>2</td>\n",
       "      <td>China</td>\n",
       "      <td>Asia</td>\n",
       "      <td>1.470000e+13</td>\n",
       "      <td>0.18987</td>\n",
       "      <td>52</td>\n",
       "      <td>William Lei Ding</td>\n",
       "      <td>$25.2 B</td>\n",
       "      <td>50.0</td>\n",
       "      <td>online games</td>\n",
       "      <td>Technology</td>\n",
       "    </tr>\n",
       "  </tbody>\n",
       "</table>\n",
       "</div>"
      ],
      "text/plain": [
       "   year  rank Country state           gdp  gdp_percent  Rank  \\\n",
       "0  2020     2   China  Asia  1.470000e+13      0.18987    16   \n",
       "1  2020     2   China  Asia  1.470000e+13      0.18987    24   \n",
       "2  2020     2   China  Asia  1.470000e+13      0.18987    32   \n",
       "3  2020     2   China  Asia  1.470000e+13      0.18987    46   \n",
       "4  2020     2   China  Asia  1.470000e+13      0.18987    52   \n",
       "\n",
       "               Name Net Worth   Age                      Source  \\\n",
       "0    Zhong Shanshan   $65.7 B  67.0  beverages, pharmaceuticals   \n",
       "1      Zhang Yiming     $50 B  38.0                      TikTok   \n",
       "2        Ma Huateng   $37.2 B  50.0              internet media   \n",
       "3      He Xiangjian   $28.3 B  79.0             home appliances   \n",
       "4  William Lei Ding   $25.2 B  50.0                online games   \n",
       "\n",
       "                Industry  \n",
       "0        Food & Beverage  \n",
       "1  Media & Entertainment  \n",
       "2             Technology  \n",
       "3          Manufacturing  \n",
       "4             Technology  "
      ]
     },
     "execution_count": 22,
     "metadata": {},
     "output_type": "execute_result"
    }
   ],
   "source": [
    "merged_df=pd.merge(df,df2,on='Country')\n",
    "merged_df.head(5)"
   ]
  },
  {
   "cell_type": "code",
   "execution_count": 23,
   "id": "f242581f",
   "metadata": {},
   "outputs": [],
   "source": [
    "#Namedtuple:\n",
    "\n",
    "#3)Define a Person named tuple with fields for name, age, and city. Create instances of Person and access their attributes."
   ]
  },
  {
   "cell_type": "code",
   "execution_count": 24,
   "id": "f047b50e",
   "metadata": {},
   "outputs": [],
   "source": [
    "from collections import namedtuple"
   ]
  },
  {
   "cell_type": "code",
   "execution_count": 25,
   "id": "5050afc0",
   "metadata": {},
   "outputs": [],
   "source": [
    "Person=namedtuple('Person',['name','age','city'])\n",
    "person1=Person('Jonas',30,'Kaunas')\n",
    "person2=Person('Elena',45,'Vilnius')\n",
    "person3=Person('Erika',25,'Klaipeda')"
   ]
  },
  {
   "cell_type": "code",
   "execution_count": 28,
   "id": "a24be1f1",
   "metadata": {},
   "outputs": [
    {
     "name": "stdout",
     "output_type": "stream",
     "text": [
      "25\n"
     ]
    }
   ],
   "source": [
    "print(person3.age)"
   ]
  },
  {
   "cell_type": "code",
   "execution_count": 29,
   "id": "8fb442b1",
   "metadata": {},
   "outputs": [],
   "source": [
    "# Counter:\n",
    "\n",
    "# 4)Count the frequency of each word in a given text and display the top 5 most common words."
   ]
  },
  {
   "cell_type": "code",
   "execution_count": 30,
   "id": "0fe8ad7a",
   "metadata": {},
   "outputs": [],
   "source": [
    "from collections import Counter\n",
    "import re"
   ]
  },
  {
   "cell_type": "code",
   "execution_count": 34,
   "id": "f739aec3",
   "metadata": {},
   "outputs": [],
   "source": [
    "def count_words(given_text):\n",
    "    words= given_text.split()\n",
    "    word_counts=Counter(words)\n",
    "    top_words=word_counts.most_common(5)\n",
    "    for word, count in top_words:\n",
    "        print(word,':',count)"
   ]
  },
  {
   "cell_type": "code",
   "execution_count": 35,
   "id": "824a1d4e",
   "metadata": {},
   "outputs": [],
   "source": [
    "given_text='This is random text, created to test the function. Dog dog dog dog cat cat cat cat cat cat ball ball ball'"
   ]
  },
  {
   "cell_type": "code",
   "execution_count": 36,
   "id": "d23fc29c",
   "metadata": {},
   "outputs": [
    {
     "name": "stdout",
     "output_type": "stream",
     "text": [
      "cat : 6\n",
      "dog : 3\n",
      "ball : 3\n",
      "This : 1\n",
      "is : 1\n"
     ]
    }
   ],
   "source": [
    "count_words(given_text)"
   ]
  },
  {
   "cell_type": "code",
   "execution_count": 37,
   "id": "fb0fd86d",
   "metadata": {},
   "outputs": [],
   "source": [
    "# Deque:\n",
    "\n",
    "# 5)Use a deque to implement a queue and perform enqueue and dequeue operations.\n",
    "# Reverse the order of elements in a deque."
   ]
  },
  {
   "cell_type": "code",
   "execution_count": 2,
   "id": "05c2d51f",
   "metadata": {},
   "outputs": [],
   "source": [
    "from collections import deque"
   ]
  },
  {
   "cell_type": "code",
   "execution_count": 3,
   "id": "0c1cf62d",
   "metadata": {},
   "outputs": [],
   "source": [
    "queue=deque()"
   ]
  },
  {
   "cell_type": "code",
   "execution_count": 4,
   "id": "3069c71c",
   "metadata": {},
   "outputs": [],
   "source": [
    "queue.append(1)\n",
    "queue.append(2)\n",
    "queue.append(3)\n",
    "queue.append(4)"
   ]
  },
  {
   "cell_type": "code",
   "execution_count": 5,
   "id": "ba59d0d4",
   "metadata": {},
   "outputs": [
    {
     "name": "stdout",
     "output_type": "stream",
     "text": [
      "1\n",
      "2\n",
      "deque([4, 3])\n"
     ]
    }
   ],
   "source": [
    "print(queue.popleft())\n",
    "print(queue.popleft())\n",
    "queue.reverse()\n",
    "print(queue)"
   ]
  },
  {
   "cell_type": "code",
   "execution_count": 6,
   "id": "7e08e996",
   "metadata": {},
   "outputs": [],
   "source": [
    "# Defaultdict:\n",
    "\n",
    "# 6)Create a defaultdict that maps a character to a list of words starting with that character.\n",
    "# Calculate the sum of values for each key in a dictionary using a defaultdict."
   ]
  },
  {
   "cell_type": "code",
   "execution_count": 7,
   "id": "f46f994e",
   "metadata": {},
   "outputs": [],
   "source": [
    "from collections import defaultdict"
   ]
  },
  {
   "cell_type": "code",
   "execution_count": 14,
   "id": "b790405d",
   "metadata": {},
   "outputs": [
    {
     "name": "stdout",
     "output_type": "stream",
     "text": [
      "defaultdict(<class 'list'>, {'a': ['apple'], 'c': ['cat'], 'p': ['plane', 'planet', 'plant'], 'w': ['wprld', 'weekend']})\n"
     ]
    }
   ],
   "source": [
    "words_dict=defaultdict(list)\n",
    "words=['apple','cat','plane','world','weekend','planet','plant']\n",
    "for word in words:\n",
    "    words_dict[word[0]].append(word)\n",
    "\n",
    "print(words_dict)"
   ]
  },
  {
   "cell_type": "code",
   "execution_count": null,
   "id": "dfdb99dc",
   "metadata": {},
   "outputs": [],
   "source": [
    "# Reduce:\n",
    "\n",
    "# 7)Use reduce to find the maximum element in a list of numbers.\n",
    "# Combine a list of strings into a single string using reduce."
   ]
  },
  {
   "cell_type": "code",
   "execution_count": 9,
   "id": "a3218870",
   "metadata": {},
   "outputs": [],
   "source": [
    "from functools import reduce"
   ]
  },
  {
   "cell_type": "code",
   "execution_count": 10,
   "id": "a1fb2eba",
   "metadata": {},
   "outputs": [
    {
     "name": "stdout",
     "output_type": "stream",
     "text": [
      "10\n"
     ]
    }
   ],
   "source": [
    "numbers=[1,2,3,4,5,6,7,8,9,10]\n",
    "maximum=reduce(lambda x,y:x if y>y else y, numbers)\n",
    "print(maximum)"
   ]
  },
  {
   "cell_type": "code",
   "execution_count": 12,
   "id": "731bb85b",
   "metadata": {},
   "outputs": [
    {
     "name": "stdout",
     "output_type": "stream",
     "text": [
      "test text:Hello World\n"
     ]
    }
   ],
   "source": [
    "words=['test',' ','text',':''Hello',' ''World']\n",
    "combination=reduce(lambda x,y:x+y,words)\n",
    "print(combination)"
   ]
  },
  {
   "cell_type": "code",
   "execution_count": null,
   "id": "3915bec1",
   "metadata": {},
   "outputs": [],
   "source": []
  }
 ],
 "metadata": {
  "kernelspec": {
   "display_name": "Python 3 (ipykernel)",
   "language": "python",
   "name": "python3"
  },
  "language_info": {
   "codemirror_mode": {
    "name": "ipython",
    "version": 3
   },
   "file_extension": ".py",
   "mimetype": "text/x-python",
   "name": "python",
   "nbconvert_exporter": "python",
   "pygments_lexer": "ipython3",
   "version": "3.9.7"
  }
 },
 "nbformat": 4,
 "nbformat_minor": 5
}
